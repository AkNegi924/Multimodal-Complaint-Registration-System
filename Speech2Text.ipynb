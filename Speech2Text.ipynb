{
 "cells": [
  {
   "cell_type": "code",
   "execution_count": null,
   "metadata": {},
   "outputs": [],
   "source": [
    "import speech_recognition as sr\n",
    "recognizer = sr.Recognizer()"
   ]
  },
  {
   "cell_type": "code",
   "execution_count": null,
   "metadata": {},
   "outputs": [],
   "source": [
    "import pyttsx3"
   ]
  },
  {
   "cell_type": "code",
   "execution_count": null,
   "metadata": {},
   "outputs": [],
   "source": [
    "\n",
    "from googletrans import Translator\n",
    "\n",
    "def translate_to_english(audio_text, source_lang='auto'):\n",
    "    translator = Translator()\n",
    "    translated_text = translator.translate(audio_text, src=source_lang, dest='en').text\n",
    "    return translated_text\n",
    "\n",
    "def record():\n",
    "    \n",
    "\n",
    "    while True:\n",
    "        try:\n",
    "            with sr.Microphone() as source:\n",
    "                print(\"Listening...\")\n",
    "                recognizer.adjust_for_ambient_noise(source, duration=0.2)\n",
    "                audio = recognizer.listen(source)\n",
    "                return audio\n",
    "        except sr.RequestError as e:\n",
    "            print(\"Could not request the result:\", e)\n",
    "        except sr.UnknownValueError:\n",
    "            print(\"Unknown error occurred.\")\n",
    "\n",
    "def recognize_audio(audio_text):\n",
    "    recognizer = sr.Recognizer()\n",
    "    try:\n",
    "        recognized_text = recognizer.recognize_google(audio_text, language='en-US')\n",
    "        print(\"Recognized text (English):\", recognized_text)\n",
    "    except sr.UnknownValueError:\n",
    "        print(\"Sorry, could not understand audio.\")\n",
    "    except sr.RequestError as e:\n",
    "        print(\"Error retrieving recognition results: {0}\".format(e))\n",
    "\n",
    "while True:\n",
    "    audio_text = record()\n",
    "    translated_text = translate_to_english(audio_text)\n",
    "    recognize_audio(translated_text)\n"
   ]
  },
  {
   "cell_type": "code",
   "execution_count": null,
   "metadata": {},
   "outputs": [],
   "source": []
  }
 ],
 "metadata": {
  "kernelspec": {
   "display_name": "Python 3",
   "language": "python",
   "name": "python3"
  },
  "language_info": {
   "codemirror_mode": {
    "name": "ipython",
    "version": 3
   },
   "file_extension": ".py",
   "mimetype": "text/x-python",
   "name": "python",
   "nbconvert_exporter": "python",
   "pygments_lexer": "ipython3",
   "version": "3.12.1"
  }
 },
 "nbformat": 4,
 "nbformat_minor": 2
}
