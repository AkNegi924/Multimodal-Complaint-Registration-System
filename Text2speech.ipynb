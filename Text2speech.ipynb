{
 "cells": [
  {
   "cell_type": "code",
   "execution_count": 2,
   "metadata": {},
   "outputs": [],
   "source": [
    "from gtts import gTTS\n",
    "from googletrans import Translator\n",
    "from IPython.display import Audio\n",
    "\n",
    "def translate_and_text_to_speech(text, target_lang):\n",
    "    translator = Translator()\n",
    "    translated_text = translator.translate(text, dest=target_lang).text\n",
    "    tts = gTTS(text=translated_text, lang=target_lang)\n",
    "    tts.save(\"output.mp3\")\n",
    "    return \"output.mp3\"\n",
    "\n",
    "def get_language_code(language):\n",
    "    language_codes = {\n",
    "        \"english\": \"en\",\n",
    "        \"spanish\": \"es\",\n",
    "        \"french\": \"fr\",\n",
    "        \"german\": \"de\",\n",
    "        \"hindi\": \"hi\",\n",
    "        \"bengali\": \"bn\",\n",
    "        \"telugu\": \"te\",\n",
    "        \"marathi\": \"mr\",\n",
    "        \"tamil\": \"ta\",\n",
    "        \"urdu\": \"ur\",\n",
    "        \"gujarati\": \"gu\",\n",
    "        \"kannada\": \"kn\",\n",
    "        \"odia\": \"or\",\n",
    "        \"malayalam\": \"ml\",\n",
    "        \"punjabi\": \"pa\",\n",
    "        \"assamese\": \"as\",\n",
    "        \"maithili\": \"mai\",\n",
    "        \"santali\": \"sat\",\n",
    "        \"kashmiri\": \"ks\",\n",
    "        \"nepali\": \"ne\"\n",
    "    }\n",
    "    return language_codes.get(language.lower())\n",
    "\n",
    "text = \"Your complaint has been solved\"\n",
    "target_language = input(\"Enter the target language (e.g., English, Spanish, Hindi): \")\n",
    "target_language_code = get_language_code(target_language)\n",
    "\n",
    "if target_language_code:\n",
    "    output_file = translate_and_text_to_speech(text, target_lang=target_language_code)\n",
    "    Audio(output_file, autoplay=True)\n",
    "else:\n",
    "    print(\"Invalid target language. Please choose from the available languages.\")\n"
   ]
  },
  {
   "cell_type": "code",
   "execution_count": null,
   "metadata": {},
   "outputs": [],
   "source": []
  }
 ],
 "metadata": {
  "kernelspec": {
   "display_name": "Python 3",
   "language": "python",
   "name": "python3"
  },
  "language_info": {
   "codemirror_mode": {
    "name": "ipython",
    "version": 3
   },
   "file_extension": ".py",
   "mimetype": "text/x-python",
   "name": "python",
   "nbconvert_exporter": "python",
   "pygments_lexer": "ipython3",
   "version": "3.12.1"
  }
 },
 "nbformat": 4,
 "nbformat_minor": 2
}
